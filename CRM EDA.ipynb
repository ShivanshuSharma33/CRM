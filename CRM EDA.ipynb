{
 "cells": [
  {
   "cell_type": "code",
   "execution_count": 19,
   "id": "be3d839c",
   "metadata": {},
   "outputs": [],
   "source": [
    "# imports\n",
    "import pandas as pd\n",
    "import numpy as np\n",
    "%matplotlib inline\n",
    "import matplotlib.pyplot as plt\n",
    "import seaborn as sns"
   ]
  },
  {
   "cell_type": "code",
   "execution_count": 20,
   "id": "90c05dd2",
   "metadata": {},
   "outputs": [
    {
     "name": "stderr",
     "output_type": "stream",
     "text": [
      "c:\\users\\sharm\\anaconda3\\envs\\crm\\lib\\site-packages\\IPython\\core\\interactiveshell.py:3170: DtypeWarning: Columns (8) have mixed types.Specify dtype option on import or set low_memory=False.\n",
      "  interactivity=interactivity, compiler=compiler, result=result)\n"
     ]
    }
   ],
   "source": [
    "#read data from csv\n",
    "account_data = pd.read_csv('Converted to CSV\\\\account.csv')\n",
    "card_data = pd.read_csv('Converted to CSV\\\\card.csv')\n",
    "client_data = pd.read_csv('Converted to CSV\\\\client.csv')\n",
    "district_data = pd.read_csv('Converted to CSV\\\\district.csv')\n",
    "disp_data = pd.read_csv('Converted to CSV\\\\disp.csv')\n",
    "loan_data = pd.read_csv('Converted to CSV\\\\loan.csv')\n",
    "order_data = pd.read_csv('Converted to CSV\\\\order.csv')\n",
    "tx_data = pd.read_csv('Converted to CSV\\\\trans.csv', delimiter=\";\")"
   ]
  },
  {
   "cell_type": "markdown",
   "id": "ccfe0b57",
   "metadata": {},
   "source": [
    "# Dataset Info."
   ]
  },
  {
   "cell_type": "markdown",
   "id": "679eaca7",
   "metadata": {},
   "source": [
    "# Real anonymized Czech bank transactions, account info, and loan records released for PKDD'99 Discovery Challenge\n",
    "\n",
    "The data about the clients and their accounts consist of following relations:\n",
    "\n",
    "-relation account (4500 objects in the file ACCOUNT.ASC) - each record describes static characteristics of an account,\n",
    "\n",
    "-relation client (5369 objects in the file CLIENT.ASC) - each record describes characteristics of a client,\n",
    "\n",
    "-relation disposition (5369 objects in the file DISP.ASC) - each record relates together a client with an account i.e. this relation describes the rights of clients to operate accounts,\n",
    "\n",
    "-relation permanent order (6471 objects in the file ORDER.ASC) - each record describes characteristics of a payment order,\n",
    "\n",
    "-relation transaction (1056320 objects in the file TRANS.ASC) - each record describes one transaction on an account,\n",
    "\n",
    "-relation loan (682 objects in the file LOAN.ASC) - each record describes a loan granted for a given account,\n",
    "\n",
    "-relation credit card (892 objects in the file CARD.ASC) - each record describes a credit card issued to an account,\n",
    "\n",
    "-relation demographic data (77 objects in the file DISTRICT.ASC) - each record describes demographic characteristics of a district."
   ]
  },
  {
   "cell_type": "markdown",
   "id": "1cf7a8ae",
   "metadata": {},
   "source": [
    "Each account has both static characteristics (e.g. date of creation, address of the branch) given in relation \"account\" and dynamic characteristics (e.g. payments debited or credited, balances) given in relations \"permanent order\" and \"transaction\". Relation \"client\" describes characteristics of persons who can manipulate with the accounts. One client can have more accounts, more clients can manipulate with single account; clients and accounts are related together in relation \"disposition\". Relations \"loan\" and \"credit card\" describe some services which the bank offers to its clients; more credit cards can be issued to an account, at most one loan can be granted for an account. Relation \"demographic data\" gives some publicly available information about the districts (e.g. the unemployment rate); additional information about the clients can be deduced from this."
   ]
  },
  {
   "cell_type": "code",
   "execution_count": 21,
   "id": "4004408d",
   "metadata": {},
   "outputs": [],
   "source": [
    "def basic_Info(df):\n",
    "    print(\"##################### Shape #####################\")\n",
    "    print(df.shape)\n",
    "    print(\"##################### Types #####################\")\n",
    "    print(df.dtypes)\n",
    "    print(\"##################### Head #####################\")\n",
    "    print(df.head(3))\n",
    "    print(\"##################### Tail #####################\")\n",
    "    print(df.tail(3))\n",
    "    print(\"##################### NA #####################\")\n",
    "    print(df.isnull().sum())\n",
    "    print(\"##################### Quantiles #####################\")\n",
    "    print(df.quantile([0, 0.05, 0.50, 0.95, 0.99, 1]).T)\n",
    "    print(\"##################### Describe #####################\")\n",
    "    print(df.describe().T)\n",
    "    \n",
    "def column_Info(df):\n",
    "    for col in df.columns:\n",
    "        sorting = df[col].value_counts().sort_values(ascending=False)\n",
    "        print(\"##################### Sorting #####################\")\n",
    "        print(sorting)"
   ]
  },
  {
   "cell_type": "code",
   "execution_count": 22,
   "id": "2c77623c",
   "metadata": {
    "scrolled": true
   },
   "outputs": [
    {
     "name": "stdout",
     "output_type": "stream",
     "text": [
      "##################### Shape #####################\n",
      "(4500, 4)\n",
      "##################### Types #####################\n",
      "account_id      int64\n",
      "district_id     int64\n",
      "frequency      object\n",
      "date            int64\n",
      "dtype: object\n",
      "##################### Head #####################\n",
      "   account_id  district_id         frequency    date\n",
      "0         576           55  POPLATEK MESICNE  930101\n",
      "1        3818           74  POPLATEK MESICNE  930101\n",
      "2         704           55  POPLATEK MESICNE  930101\n",
      "##################### Tail #####################\n",
      "      account_id  district_id         frequency    date\n",
      "4497         777           30  POPLATEK MESICNE  971228\n",
      "4498        1573           63  POPLATEK MESICNE  971229\n",
      "4499        3276            1  POPLATEK MESICNE  971229\n",
      "##################### NA #####################\n",
      "account_id     0\n",
      "district_id    0\n",
      "frequency      0\n",
      "date           0\n",
      "dtype: int64\n",
      "##################### Quantiles #####################\n",
      "                 0.00       0.05      0.50       0.95       0.99      1.00\n",
      "account_id        1.0     238.95    2368.0    8492.65   10799.08   11382.0\n",
      "district_id       1.0       1.00      38.0      74.00      76.00      77.0\n",
      "date         930101.0  930311.95  960102.0  970923.00  971208.01  971229.0\n",
      "##################### Describe #####################\n",
      "              count           mean           std       min        25%  \\\n",
      "account_id   4500.0    2786.067556   2313.811984       1.0    1182.75   \n",
      "district_id  4500.0      37.310444     25.177217       1.0      13.00   \n",
      "date         4500.0  951654.608667  14842.188377  930101.0  931227.00   \n",
      "\n",
      "                  50%        75%       max  \n",
      "account_id     2368.0    3552.25   11382.0  \n",
      "district_id      38.0      60.00      77.0  \n",
      "date         960102.0  961101.00  971229.0  \n"
     ]
    }
   ],
   "source": [
    "basic_Info(account_data)"
   ]
  },
  {
   "cell_type": "code",
   "execution_count": 23,
   "id": "e6e7c88d",
   "metadata": {},
   "outputs": [],
   "source": [
    "#replacing column names \n",
    "account_data.replace({'frequency' : { 'POPLATEK MESICNE' : 'MONTHLY ISSUANCE (MI)', 'POPLATEK TYDNE' : 'WEEKLY ISSUANCE (WI)', 'POPLATEK PO OBRATU' : 'ISSUANCE AFTER TRANSACTION (TI)', }}, inplace = True)\n",
    "#changing date format\n",
    "account_data['date'] = pd.to_datetime(account_data['date'], format = '%y%m%d', errors = 'coerce')\n",
    "#deriving tenure\n",
    "account_data[\"Tenure\"] = 1998 - pd.DatetimeIndex(account_data['date']).year\n"
   ]
  },
  {
   "cell_type": "code",
   "execution_count": 24,
   "id": "2e6c8e22",
   "metadata": {},
   "outputs": [
    {
     "name": "stdout",
     "output_type": "stream",
     "text": [
      "##################### Sorting #####################\n",
      "2049     1\n",
      "16       1\n",
      "4102     1\n",
      "8        1\n",
      "2057     1\n",
      "        ..\n",
      "10227    1\n",
      "1033     1\n",
      "4086     1\n",
      "2039     1\n",
      "2047     1\n",
      "Name: account_id, Length: 4500, dtype: int64\n",
      "##################### Sorting #####################\n",
      "1     554\n",
      "70    152\n",
      "74    135\n",
      "54    128\n",
      "64     92\n",
      "     ... \n",
      "37     37\n",
      "49     37\n",
      "20     36\n",
      "22     36\n",
      "58     32\n",
      "Name: district_id, Length: 77, dtype: int64\n",
      "##################### Sorting #####################\n",
      "MONTHLY ISSUANCE (MI)              4167\n",
      "WEEKLY ISSUANCE (WI)                240\n",
      "ISSUANCE AFTER TRANSACTION (TI)      93\n",
      "Name: frequency, dtype: int64\n",
      "##################### Sorting #####################\n",
      "1993-02-08    13\n",
      "1993-10-08    12\n",
      "1996-06-25    11\n",
      "1996-11-24    11\n",
      "1997-08-08    10\n",
      "              ..\n",
      "1994-05-07     1\n",
      "1996-01-30     1\n",
      "1997-12-15     1\n",
      "1993-08-22     1\n",
      "1993-12-23     1\n",
      "Name: date, Length: 1535, dtype: int64\n",
      "##################### Sorting #####################\n",
      "2    1363\n",
      "5    1139\n",
      "1     898\n",
      "3     661\n",
      "4     439\n",
      "Name: Tenure, dtype: int64\n"
     ]
    }
   ],
   "source": [
    "column_Info(account_data)"
   ]
  },
  {
   "cell_type": "code",
   "execution_count": 25,
   "id": "98e2c8cf",
   "metadata": {},
   "outputs": [
    {
     "data": {
      "text/html": [
       "<div>\n",
       "<style scoped>\n",
       "    .dataframe tbody tr th:only-of-type {\n",
       "        vertical-align: middle;\n",
       "    }\n",
       "\n",
       "    .dataframe tbody tr th {\n",
       "        vertical-align: top;\n",
       "    }\n",
       "\n",
       "    .dataframe thead th {\n",
       "        text-align: right;\n",
       "    }\n",
       "</style>\n",
       "<table border=\"1\" class=\"dataframe\">\n",
       "  <thead>\n",
       "    <tr style=\"text-align: right;\">\n",
       "      <th></th>\n",
       "      <th>account_id</th>\n",
       "      <th>district_id</th>\n",
       "      <th>frequency</th>\n",
       "      <th>date</th>\n",
       "      <th>Tenure</th>\n",
       "    </tr>\n",
       "  </thead>\n",
       "  <tbody>\n",
       "    <tr>\n",
       "      <th>0</th>\n",
       "      <td>576</td>\n",
       "      <td>55</td>\n",
       "      <td>MONTHLY ISSUANCE (MI)</td>\n",
       "      <td>1993-01-01</td>\n",
       "      <td>5</td>\n",
       "    </tr>\n",
       "    <tr>\n",
       "      <th>1</th>\n",
       "      <td>3818</td>\n",
       "      <td>74</td>\n",
       "      <td>MONTHLY ISSUANCE (MI)</td>\n",
       "      <td>1993-01-01</td>\n",
       "      <td>5</td>\n",
       "    </tr>\n",
       "    <tr>\n",
       "      <th>2</th>\n",
       "      <td>704</td>\n",
       "      <td>55</td>\n",
       "      <td>MONTHLY ISSUANCE (MI)</td>\n",
       "      <td>1993-01-01</td>\n",
       "      <td>5</td>\n",
       "    </tr>\n",
       "    <tr>\n",
       "      <th>3</th>\n",
       "      <td>2378</td>\n",
       "      <td>16</td>\n",
       "      <td>MONTHLY ISSUANCE (MI)</td>\n",
       "      <td>1993-01-01</td>\n",
       "      <td>5</td>\n",
       "    </tr>\n",
       "    <tr>\n",
       "      <th>4</th>\n",
       "      <td>2632</td>\n",
       "      <td>24</td>\n",
       "      <td>MONTHLY ISSUANCE (MI)</td>\n",
       "      <td>1993-01-02</td>\n",
       "      <td>5</td>\n",
       "    </tr>\n",
       "  </tbody>\n",
       "</table>\n",
       "</div>"
      ],
      "text/plain": [
       "   account_id  district_id              frequency       date  Tenure\n",
       "0         576           55  MONTHLY ISSUANCE (MI) 1993-01-01       5\n",
       "1        3818           74  MONTHLY ISSUANCE (MI) 1993-01-01       5\n",
       "2         704           55  MONTHLY ISSUANCE (MI) 1993-01-01       5\n",
       "3        2378           16  MONTHLY ISSUANCE (MI) 1993-01-01       5\n",
       "4        2632           24  MONTHLY ISSUANCE (MI) 1993-01-02       5"
      ]
     },
     "execution_count": 25,
     "metadata": {},
     "output_type": "execute_result"
    }
   ],
   "source": [
    "account_data.head(5)"
   ]
  },
  {
   "cell_type": "code",
   "execution_count": 41,
   "id": "cb735860",
   "metadata": {},
   "outputs": [
    {
     "data": {
      "image/png": "[encoded data removed]",
      "text/plain": [
       "<Figure size 432x288 with 1 Axes>"
      ]
     },
     "metadata": {
      "needs_background": "light"
     },
     "output_type": "display_data"
    }
   ],
   "source": [
    "ax = sns.countplot(y='frequency', data=account_data)"
   ]
  },
  {
   "cell_type": "code",
   "execution_count": 27,
   "id": "6f210d04",
   "metadata": {},
   "outputs": [
    {
     "data": {
      "image/png": "[encoded data removed]",
      "text/plain": [
       "<Figure size 432x288 with 1 Axes>"
      ]
     },
     "metadata": {
      "needs_background": "light"
     },
     "output_type": "display_data"
    }
   ],
   "source": [
    "ax = sns.countplot(x='Tenure', data=account_data)"
   ]
  },
  {
   "cell_type": "code",
   "execution_count": 29,
   "id": "93aa7487",
   "metadata": {},
   "outputs": [
    {
     "name": "stdout",
     "output_type": "stream",
     "text": [
      "##################### Shape #####################\n",
      "(5369, 3)\n",
      "##################### Types #####################\n",
      "client_id       int64\n",
      "birth_number    int64\n",
      "district_id     int64\n",
      "dtype: object\n",
      "##################### Head #####################\n",
      "   client_id  birth_number  district_id\n",
      "0          1        706213           18\n",
      "1          2        450204            1\n",
      "2          3        406009            1\n",
      "##################### Tail #####################\n",
      "      client_id  birth_number  district_id\n",
      "5366      13968        680413           61\n",
      "5367      13971        626019           67\n",
      "5368      13998        535812           74\n",
      "##################### NA #####################\n",
      "client_id       0\n",
      "birth_number    0\n",
      "district_id     0\n",
      "dtype: int64\n",
      "##################### Quantiles #####################\n",
      "                  0.00      0.05      0.50      0.95       0.99      1.00\n",
      "client_id          1.0     285.4    2839.0   10477.8   13260.32   13998.0\n",
      "birth_number  110820.0  230419.6  540829.0  790271.4  812472.76  875927.0\n",
      "district_id        1.0       1.0      38.0      74.0      76.00      77.0\n",
      "##################### Describe #####################\n",
      "               count           mean            std       min       25%  \\\n",
      "client_id     5369.0    3359.011920    2832.911984       1.0    1418.0   \n",
      "birth_number  5369.0  535114.970013  172895.618429  110820.0  406009.0   \n",
      "district_id   5369.0      37.310114      25.043690       1.0      14.0   \n",
      "\n",
      "                   50%       75%       max  \n",
      "client_id       2839.0    4257.0   13998.0  \n",
      "birth_number  540829.0  681013.0  875927.0  \n",
      "district_id       38.0      60.0      77.0  \n"
     ]
    }
   ],
   "source": [
    "basic_Info(client_data)"
   ]
  },
  {
   "cell_type": "code",
   "execution_count": 30,
   "id": "9c3f2953",
   "metadata": {},
   "outputs": [],
   "source": [
    "# adding columns for birth_date, gender and age\n",
    "client_data = client_data.join(pd.DataFrame({'birth_date': np.nan, 'gender': np.nan, 'age': np.nan}, index = client_data.index))\n",
    "\n",
    "# deriving gender from birth_number\n",
    "client_data['birth_date'] = client_data['birth_number']\n",
    "for ids, item in enumerate(client_data['birth_number']):\n",
    "    if int(str(item)[2:4]) > 50:\n",
    "        client_data.loc[ids, 'gender'] = 0 #female\n",
    "        client_data.loc[ids, 'birth_date'] = item - 5000 \n",
    "    else: \n",
    "        client_data.loc[ids, 'gender'] = 1 #male\n",
    "        \n",
    "# deriving birth_date\n",
    "client_data['birth_date'] = pd.to_datetime(client_data['birth_date'], format = '%y%m%d', errors = 'coerce')\n",
    "\n",
    "# date rectifying function\n",
    "def rectify(date):\n",
    "    if date.year > 2000:\n",
    "        date = date.replace (year = date.year - 100)\n",
    "        return date\n",
    "    else:\n",
    "        return date\n",
    "\n",
    "# correcting birth_date\n",
    "client_data['birth_date'] = client_data['birth_date'].apply(rectify)\n",
    "\n",
    "#finding age\n",
    "client_data[\"age\"] = 1998 - pd.DatetimeIndex(client_data['birth_date']).year"
   ]
  },
  {
   "cell_type": "code",
   "execution_count": 31,
   "id": "0c33f13c",
   "metadata": {},
   "outputs": [
    {
     "name": "stdout",
     "output_type": "stream",
     "text": [
      "##################### Sorting #####################\n",
      "2049    1\n",
      "28      1\n",
      "2053    1\n",
      "4102    1\n",
      "8       1\n",
      "       ..\n",
      "2039    1\n",
      "4090    1\n",
      "2043    1\n",
      "4094    1\n",
      "2047    1\n",
      "Name: client_id, Length: 5369, dtype: int64\n",
      "##################### Sorting #####################\n",
      "475713    4\n",
      "396027    3\n",
      "540603    3\n",
      "445209    3\n",
      "695317    3\n",
      "         ..\n",
      "230911    1\n",
      "525827    1\n",
      "491012    1\n",
      "276001    1\n",
      "350205    1\n",
      "Name: birth_number, Length: 5019, dtype: int64\n",
      "##################### Sorting #####################\n",
      "1     663\n",
      "74    180\n",
      "70    169\n",
      "54    155\n",
      "64    109\n",
      "     ... \n",
      "58     44\n",
      "65     44\n",
      "12     44\n",
      "24     43\n",
      "20     43\n",
      "Name: district_id, Length: 77, dtype: int64\n",
      "##################### Sorting #####################\n",
      "1971-02-28    4\n",
      "1947-07-13    4\n",
      "1965-07-25    4\n",
      "1952-08-26    4\n",
      "1970-10-07    4\n",
      "             ..\n",
      "1925-09-23    1\n",
      "1959-08-29    1\n",
      "1939-06-06    1\n",
      "1943-12-30    1\n",
      "1978-11-21    1\n",
      "Name: birth_date, Length: 4738, dtype: int64\n",
      "##################### Sorting #####################\n",
      "1.0    2724\n",
      "0.0    2645\n",
      "Name: gender, dtype: int64\n",
      "##################### Sorting #####################\n",
      "39    119\n",
      "56    119\n",
      "22    118\n",
      "20    116\n",
      "46    115\n",
      "     ... \n",
      "87      2\n",
      "12      1\n",
      "11      1\n",
      "86      1\n",
      "14      1\n",
      "Name: age, Length: 77, dtype: int64\n"
     ]
    }
   ],
   "source": [
    "column_Info(client_data)"
   ]
  },
  {
   "cell_type": "code",
   "execution_count": 40,
   "id": "661e96f9",
   "metadata": {},
   "outputs": [
    {
     "data": {
      "text/html": [
       "<div>\n",
       "<style scoped>\n",
       "    .dataframe tbody tr th:only-of-type {\n",
       "        vertical-align: middle;\n",
       "    }\n",
       "\n",
       "    .dataframe tbody tr th {\n",
       "        vertical-align: top;\n",
       "    }\n",
       "\n",
       "    .dataframe thead th {\n",
       "        text-align: right;\n",
       "    }\n",
       "</style>\n",
       "<table border=\"1\" class=\"dataframe\">\n",
       "  <thead>\n",
       "    <tr style=\"text-align: right;\">\n",
       "      <th></th>\n",
       "      <th>client_id</th>\n",
       "      <th>district_id</th>\n",
       "      <th>birth_date</th>\n",
       "      <th>gender</th>\n",
       "      <th>age</th>\n",
       "    </tr>\n",
       "  </thead>\n",
       "  <tbody>\n",
       "    <tr>\n",
       "      <th>0</th>\n",
       "      <td>1</td>\n",
       "      <td>18</td>\n",
       "      <td>1970-12-13</td>\n",
       "      <td>0.0</td>\n",
       "      <td>28</td>\n",
       "    </tr>\n",
       "    <tr>\n",
       "      <th>1</th>\n",
       "      <td>2</td>\n",
       "      <td>1</td>\n",
       "      <td>1945-02-04</td>\n",
       "      <td>1.0</td>\n",
       "      <td>53</td>\n",
       "    </tr>\n",
       "    <tr>\n",
       "      <th>2</th>\n",
       "      <td>3</td>\n",
       "      <td>1</td>\n",
       "      <td>1940-10-09</td>\n",
       "      <td>0.0</td>\n",
       "      <td>58</td>\n",
       "    </tr>\n",
       "    <tr>\n",
       "      <th>3</th>\n",
       "      <td>4</td>\n",
       "      <td>5</td>\n",
       "      <td>1956-12-01</td>\n",
       "      <td>1.0</td>\n",
       "      <td>42</td>\n",
       "    </tr>\n",
       "    <tr>\n",
       "      <th>4</th>\n",
       "      <td>5</td>\n",
       "      <td>5</td>\n",
       "      <td>1960-07-03</td>\n",
       "      <td>0.0</td>\n",
       "      <td>38</td>\n",
       "    </tr>\n",
       "  </tbody>\n",
       "</table>\n",
       "</div>"
      ],
      "text/plain": [
       "   client_id  district_id birth_date  gender  age\n",
       "0          1           18 1970-12-13     0.0   28\n",
       "1          2            1 1945-02-04     1.0   53\n",
       "2          3            1 1940-10-09     0.0   58\n",
       "3          4            5 1956-12-01     1.0   42\n",
       "4          5            5 1960-07-03     0.0   38"
      ]
     },
     "execution_count": 40,
     "metadata": {},
     "output_type": "execute_result"
    }
   ],
   "source": [
    "client_data.drop(['birth_number'], axis=1,inplace=True)\n",
    "client_data.head(5)"
   ]
  },
  {
   "cell_type": "code",
   "execution_count": 45,
   "id": "d0603aed",
   "metadata": {},
   "outputs": [
    {
     "data": {
      "image/png": "[encoded data removed]",
      "text/plain": [
       "<Figure size 432x288 with 1 Axes>"
      ]
     },
     "metadata": {
      "needs_background": "light"
     },
     "output_type": "display_data"
    }
   ],
   "source": [
    "ax = sns.countplot(x='gender', data=client_data)"
   ]
  },
  {
   "cell_type": "code",
   "execution_count": 43,
   "id": "c6ca3248",
   "metadata": {},
   "outputs": [
    {
     "data": {
      "text/plain": [
       "<seaborn.axisgrid.FacetGrid at 0x1e52140fa88>"
      ]
     },
     "execution_count": 43,
     "metadata": {},
     "output_type": "execute_result"
    },
    {
     "data": {
      "image/png": "[encoded data removed]",
      "text/plain": [
       "<Figure size 411.875x360 with 1 Axes>"
      ]
     },
     "metadata": {
      "needs_background": "light"
     },
     "output_type": "display_data"
    }
   ],
   "source": [
    "sns.displot(client_data, x=\"age\", hue=\"gender\", kind=\"kde\")"
   ]
  },
  {
   "cell_type": "code",
   "execution_count": 34,
   "id": "a856e77f",
   "metadata": {},
   "outputs": [
    {
     "name": "stdout",
     "output_type": "stream",
     "text": [
      "##################### Shape #####################\n",
      "(892, 4)\n",
      "##################### Types #####################\n",
      "card_id     int64\n",
      "disp_id     int64\n",
      "type       object\n",
      "issued     object\n",
      "dtype: object\n",
      "##################### Head #####################\n",
      "   card_id  disp_id     type           issued\n",
      "0     1005     9285  classic  931107 00:00:00\n",
      "1      104      588  classic  940119 00:00:00\n",
      "2      747     4915  classic  940205 00:00:00\n",
      "##################### Tail #####################\n",
      "     card_id  disp_id     type           issued\n",
      "889      322     2063  classic  981228 00:00:00\n",
      "890      685     4467  classic  981229 00:00:00\n",
      "891      635     4083  classic  981229 00:00:00\n",
      "##################### NA #####################\n",
      "card_id    0\n",
      "disp_id    0\n",
      "type       0\n",
      "issued     0\n",
      "dtype: int64\n",
      "##################### Quantiles #####################\n",
      "         0.00    0.05    0.50     0.95      0.99     1.00\n",
      "card_id   1.0   46.55   456.5   1093.9   1216.09   1247.0\n",
      "disp_id   9.0  276.85  2938.5  11016.4  13097.09  13660.0\n",
      "##################### Describe #####################\n",
      "         count         mean          std  min      25%     50%      75%  \\\n",
      "card_id  892.0   480.855381   306.933982  1.0   229.75   456.5   684.25   \n",
      "disp_id  892.0  3511.862108  2984.373626  9.0  1387.00  2938.5  4459.50   \n",
      "\n",
      "             max  \n",
      "card_id   1247.0  \n",
      "disp_id  13660.0  \n"
     ]
    }
   ],
   "source": [
    "basic_Info(card_data)"
   ]
  },
  {
   "cell_type": "code",
   "execution_count": 35,
   "id": "d51f036f",
   "metadata": {},
   "outputs": [
    {
     "name": "stdout",
     "output_type": "stream",
     "text": [
      "##################### Sorting #####################\n",
      "1       1\n",
      "14      1\n",
      "15      1\n",
      "3       1\n",
      "4       1\n",
      "       ..\n",
      "1223    1\n",
      "1225    1\n",
      "1230    1\n",
      "1233    1\n",
      "1247    1\n",
      "Name: card_id, Length: 892, dtype: int64\n",
      "##################### Sorting #####################\n",
      "12291    1\n",
      "3337     1\n",
      "6178     1\n",
      "9        1\n",
      "2058     1\n",
      "        ..\n",
      "4083     1\n",
      "2038     1\n",
      "12535    1\n",
      "10235    1\n",
      "2796     1\n",
      "Name: disp_id, Length: 892, dtype: int64\n",
      "##################### Sorting #####################\n",
      "classic    659\n",
      "junior     145\n",
      "gold        88\n",
      "Name: type, dtype: int64\n",
      "##################### Sorting #####################\n",
      "980929 00:00:00    7\n",
      "981011 00:00:00    4\n",
      "981025 00:00:00    4\n",
      "981018 00:00:00    4\n",
      "981009 00:00:00    4\n",
      "                  ..\n",
      "980118 00:00:00    1\n",
      "960405 00:00:00    1\n",
      "970701 00:00:00    1\n",
      "941021 00:00:00    1\n",
      "971212 00:00:00    1\n",
      "Name: issued, Length: 607, dtype: int64\n"
     ]
    }
   ],
   "source": [
    "column_Info(card_data)"
   ]
  },
  {
   "cell_type": "code",
   "execution_count": 36,
   "id": "ed90a2bd",
   "metadata": {},
   "outputs": [
    {
     "data": {
      "image/png": "[encoded data removed]",
      "text/plain": [
       "<Figure size 432x288 with 1 Axes>"
      ]
     },
     "metadata": {
      "needs_background": "light"
     },
     "output_type": "display_data"
    }
   ],
   "source": [
    "ax = sns.countplot(x='type', data=card_data)"
   ]
  },
  {
   "cell_type": "code",
   "execution_count": null,
   "id": "234bd3c3",
   "metadata": {},
   "outputs": [],
   "source": []
  }
 ],
 "metadata": {
  "kernelspec": {
   "display_name": "Python 3",
   "language": "python",
   "name": "python3"
  },
  "language_info": {
   "codemirror_mode": {
    "name": "ipython",
    "version": 3
   },
   "file_extension": ".py",
   "mimetype": "text/x-python",
   "name": "python",
   "nbconvert_exporter": "python",
   "pygments_lexer": "ipython3",
   "version": "3.7.10"
  }
 },
 "nbformat": 4,
 "nbformat_minor": 5
}
